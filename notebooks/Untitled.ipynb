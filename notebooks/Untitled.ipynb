{
 "cells": [
  {
   "cell_type": "code",
   "execution_count": 1,
   "source": [
    "#db\n",
    "import requests\n",
    "import pandas as pd\n",
    "import json"
   ],
   "outputs": [],
   "metadata": {
    "ExecuteTime": {
     "end_time": "2021-08-09T09:57:24.037507Z",
     "start_time": "2021-08-09T09:57:24.032085Z"
    }
   }
  },
  {
   "cell_type": "code",
   "execution_count": 6,
   "source": [
    "island = 'Torgersen'\n",
    "bill_length_mm = 45\n",
    "bill_depth_mm = 16\n",
    "flipper_length_mm = 223\n",
    "body_mass_g = 5950\n",
    "sex = 'Male'\n",
    "a = requests.get(f'http://127.0.0.1:8000/prediction?island={island}&bill_length_mm={bill_length_mm}&bill_depth_mm={bill_depth_mm}&flipper_length_mm={flipper_length_mm}&body_mass_g={body_mass_g}&sex={sex}').json()"
   ],
   "outputs": [],
   "metadata": {
    "ExecuteTime": {
     "end_time": "2021-08-09T09:57:26.209990Z",
     "start_time": "2021-08-09T09:57:26.159151Z"
    }
   }
  },
  {
   "cell_type": "code",
   "execution_count": 5,
   "source": [
    "a"
   ],
   "outputs": [
    {
     "output_type": "execute_result",
     "data": {
      "text/plain": [
       "['Gentoo']"
      ]
     },
     "metadata": {},
     "execution_count": 5
    }
   ],
   "metadata": {
    "ExecuteTime": {
     "end_time": "2021-08-09T09:57:28.207670Z",
     "start_time": "2021-08-09T09:57:28.195858Z"
    }
   }
  }
 ],
 "metadata": {
  "hide_input": false,
  "kernelspec": {
   "name": "python3",
   "display_name": "Python 3.9.6 64-bit ('ml_pinguins_env': conda)"
  },
  "language_info": {
   "codemirror_mode": {
    "name": "ipython",
    "version": 3
   },
   "file_extension": ".py",
   "mimetype": "text/x-python",
   "name": "python",
   "nbconvert_exporter": "python",
   "pygments_lexer": "ipython3",
   "version": "3.9.6"
  },
  "toc": {
   "base_numbering": 1,
   "nav_menu": {},
   "number_sections": false,
   "sideBar": true,
   "skip_h1_title": false,
   "title_cell": "Table of Contents",
   "title_sidebar": "Contents",
   "toc_cell": false,
   "toc_position": {},
   "toc_section_display": true,
   "toc_window_display": false
  },
  "varInspector": {
   "cols": {
    "lenName": 16,
    "lenType": 16,
    "lenVar": 40
   },
   "kernels_config": {
    "python": {
     "delete_cmd_postfix": "",
     "delete_cmd_prefix": "del ",
     "library": "var_list.py",
     "varRefreshCmd": "print(var_dic_list())"
    },
    "r": {
     "delete_cmd_postfix": ") ",
     "delete_cmd_prefix": "rm(",
     "library": "var_list.r",
     "varRefreshCmd": "cat(var_dic_list()) "
    }
   },
   "types_to_exclude": [
    "module",
    "function",
    "builtin_function_or_method",
    "instance",
    "_Feature"
   ],
   "window_display": false
  },
  "interpreter": {
   "hash": "7319ccc9db57f6dc9febf30c282d3ef1159ff434059144aecd147bbd47a47aca"
  }
 },
 "nbformat": 4,
 "nbformat_minor": 5
}