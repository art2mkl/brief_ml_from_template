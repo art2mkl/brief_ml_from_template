{
 "cells": [
  {
   "cell_type": "code",
   "execution_count": null,
   "source": [
    "#Basics\n",
    "import seaborn as sns\n",
    "\n",
    "#System\n",
    "import sys\n",
    "\n",
    "#imports models\n",
    "from sklearn.ensemble import RandomForestClassifier"
   ],
   "outputs": [],
   "metadata": {
    "ExecuteTime": {
     "end_time": "2021-08-09T07:10:00.939927Z",
     "start_time": "2021-08-09T07:09:41.175811Z"
    }
   }
  },
  {
   "cell_type": "code",
   "execution_count": null,
   "source": [
    "# #define path if pkg is not install\n",
    "# a = !pwd\n",
    "# path = (\"/\").join(list(a)[0].split(\"/\")[:-1])\n",
    "\n",
    "# sys.path.append(path)"
   ],
   "outputs": [],
   "metadata": {
    "ExecuteTime": {
     "end_time": "2021-08-09T07:10:00.961195Z",
     "start_time": "2021-08-09T07:10:00.944141Z"
    }
   }
  },
  {
   "cell_type": "code",
   "execution_count": null,
   "source": [
    "from ml_pinguins_pkg.pinguins_ml import Pinguins_ml\n",
    "from ml_pinguins_pkg.pinguins_viz import Pinguins_viz\n",
    "from ml_pinguins_pkg.pinguins_model import Pinguins_model"
   ],
   "outputs": [],
   "metadata": {
    "ExecuteTime": {
     "end_time": "2021-08-09T07:10:01.143090Z",
     "start_time": "2021-08-09T07:10:00.971863Z"
    }
   }
  },
  {
   "cell_type": "code",
   "execution_count": null,
   "source": [
    "df = sns.load_dataset('penguins')\n"
   ],
   "outputs": [],
   "metadata": {
    "ExecuteTime": {
     "end_time": "2021-08-09T07:10:01.219340Z",
     "start_time": "2021-08-09T07:10:01.149728Z"
    }
   }
  },
  {
   "cell_type": "code",
   "execution_count": null,
   "source": [
    "pinguin = Pinguins_model(df, 'species')\n",
    "\n"
   ],
   "outputs": [],
   "metadata": {}
  },
  {
   "cell_type": "code",
   "execution_count": null,
   "source": [
    "pinguin.prepare_model(RandomForestClassifier())"
   ],
   "outputs": [],
   "metadata": {}
  },
  {
   "cell_type": "code",
   "execution_count": null,
   "source": [
    "pinguin.load_model('test.joblib')"
   ],
   "outputs": [],
   "metadata": {}
  },
  {
   "cell_type": "code",
   "execution_count": null,
   "source": [
    "pinguin.save_model(pinguin.model, 'test.joblib')"
   ],
   "outputs": [],
   "metadata": {}
  },
  {
   "cell_type": "code",
   "execution_count": null,
   "source": [],
   "outputs": [],
   "metadata": {}
  },
  {
   "cell_type": "markdown",
   "source": [],
   "metadata": {}
  },
  {
   "cell_type": "code",
   "execution_count": null,
   "source": [
    "viz = Pinguins_viz(df,'species')\n",
    "viz.infos()\n",
    "a = viz.look('species')\n",
    "b = viz.korr('species')\n",
    "a = viz.kompare('flipper_length_mm', 'bill_length_mm')"
   ],
   "outputs": [],
   "metadata": {
    "ExecuteTime": {
     "end_time": "2021-08-09T07:10:02.626455Z",
     "start_time": "2021-08-09T07:10:01.222264Z"
    }
   }
  },
  {
   "cell_type": "code",
   "execution_count": null,
   "source": [
    "model = Pinguins_model(df,'species')"
   ],
   "outputs": [],
   "metadata": {
    "ExecuteTime": {
     "end_time": "2021-08-09T07:10:02.637372Z",
     "start_time": "2021-08-09T07:10:02.631122Z"
    }
   }
  },
  {
   "cell_type": "code",
   "execution_count": null,
   "source": [
    "model.evaluate_model(RandomForestClassifier())"
   ],
   "outputs": [],
   "metadata": {
    "ExecuteTime": {
     "end_time": "2021-08-09T07:10:03.288458Z",
     "start_time": "2021-08-09T07:10:02.648586Z"
    }
   }
  },
  {
   "cell_type": "code",
   "execution_count": null,
   "source": [
    "model.prepare_model(RandomForestClassifier())"
   ],
   "outputs": [],
   "metadata": {
    "ExecuteTime": {
     "end_time": "2021-08-09T07:10:03.538295Z",
     "start_time": "2021-08-09T07:10:03.291875Z"
    }
   }
  },
  {
   "cell_type": "code",
   "execution_count": null,
   "source": [
    "model.model"
   ],
   "outputs": [],
   "metadata": {
    "ExecuteTime": {
     "end_time": "2021-08-09T07:10:03.601244Z",
     "start_time": "2021-08-09T07:10:03.542211Z"
    }
   }
  },
  {
   "cell_type": "code",
   "execution_count": null,
   "source": [
    "test = df[:1].copy()\n",
    "model.transform_null(test)"
   ],
   "outputs": [],
   "metadata": {
    "ExecuteTime": {
     "end_time": "2021-08-09T07:10:03.641618Z",
     "start_time": "2021-08-09T07:10:03.612234Z"
    }
   }
  },
  {
   "cell_type": "code",
   "execution_count": null,
   "source": [
    "model.y.unique()"
   ],
   "outputs": [],
   "metadata": {
    "ExecuteTime": {
     "end_time": "2021-08-09T07:10:03.692218Z",
     "start_time": "2021-08-09T07:10:03.663771Z"
    }
   }
  },
  {
   "cell_type": "code",
   "execution_count": null,
   "source": [
    "pred = model.predict_model(model.model, model.X)\n",
    "pred"
   ],
   "outputs": [],
   "metadata": {
    "ExecuteTime": {
     "end_time": "2021-08-09T07:10:03.789583Z",
     "start_time": "2021-08-09T07:10:03.715465Z"
    }
   }
  },
  {
   "cell_type": "code",
   "execution_count": null,
   "source": [
    "model.show_classification_scores(model.y, pred)"
   ],
   "outputs": [],
   "metadata": {
    "ExecuteTime": {
     "end_time": "2021-08-09T07:10:03.818082Z",
     "start_time": "2021-08-09T07:10:03.799059Z"
    }
   }
  },
  {
   "cell_type": "code",
   "execution_count": null,
   "source": [
    "a = model.matrix_plot(model.model, model.X, model.y)"
   ],
   "outputs": [],
   "metadata": {
    "ExecuteTime": {
     "end_time": "2021-08-09T07:10:04.270101Z",
     "start_time": "2021-08-09T07:10:03.825260Z"
    }
   }
  }
 ],
 "metadata": {
  "hide_input": false,
  "interpreter": {
   "hash": "7319ccc9db57f6dc9febf30c282d3ef1159ff434059144aecd147bbd47a47aca"
  },
  "kernelspec": {
   "name": "python3",
   "display_name": "Python 3.9.6 64-bit ('ml_pinguins_env': conda)"
  },
  "language_info": {
   "codemirror_mode": {
    "name": "ipython",
    "version": 3
   },
   "file_extension": ".py",
   "mimetype": "text/x-python",
   "name": "python",
   "nbconvert_exporter": "python",
   "pygments_lexer": "ipython3",
   "version": "3.9.6"
  },
  "toc": {
   "base_numbering": 1,
   "nav_menu": {},
   "number_sections": false,
   "sideBar": true,
   "skip_h1_title": false,
   "title_cell": "Table of Contents",
   "title_sidebar": "Contents",
   "toc_cell": false,
   "toc_position": {},
   "toc_section_display": true,
   "toc_window_display": false
  },
  "varInspector": {
   "cols": {
    "lenName": 16,
    "lenType": 16,
    "lenVar": 40
   },
   "kernels_config": {
    "python": {
     "delete_cmd_postfix": "",
     "delete_cmd_prefix": "del ",
     "library": "var_list.py",
     "varRefreshCmd": "print(var_dic_list())"
    },
    "r": {
     "delete_cmd_postfix": ") ",
     "delete_cmd_prefix": "rm(",
     "library": "var_list.r",
     "varRefreshCmd": "cat(var_dic_list()) "
    }
   },
   "types_to_exclude": [
    "module",
    "function",
    "builtin_function_or_method",
    "instance",
    "_Feature"
   ],
   "window_display": false
  }
 },
 "nbformat": 4,
 "nbformat_minor": 5
}